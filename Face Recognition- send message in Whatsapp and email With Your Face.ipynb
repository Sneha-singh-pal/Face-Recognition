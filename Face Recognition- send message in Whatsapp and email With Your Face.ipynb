{
 "cells": [
  {
   "cell_type": "code",
   "execution_count": 1,
   "metadata": {},
   "outputs": [
    {
     "name": "stderr",
     "output_type": "stream",
     "text": [
      "<>:15: SyntaxWarning: \"is\" with a literal. Did you mean \"==\"?\n",
      "<>:15: SyntaxWarning: \"is\" with a literal. Did you mean \"==\"?\n",
      "<ipython-input-1-629aa437f198>:15: SyntaxWarning: \"is\" with a literal. Did you mean \"==\"?\n",
      "  if faces is ():\n"
     ]
    },
    {
     "name": "stdout",
     "output_type": "stream",
     "text": [
      "Collecting Samples Complete\n"
     ]
    }
   ],
   "source": [
    "import cv2\n",
    "import numpy as np\n",
    "\n",
    "# Load HAAR face classifier\n",
    "face_classifier = cv2.CascadeClassifier('haarcascade_frontalface_default.xml')\n",
    "\n",
    "# Load functions\n",
    "def face_extractor(img):\n",
    "    # Function detects faces and returns the cropped face\n",
    "    # If no face detected, it returns the input image\n",
    "    \n",
    "    gray = cv2.cvtColor(img,cv2.COLOR_BGR2GRAY)\n",
    "    faces = face_classifier.detectMultiScale(gray, 1.3, 5)\n",
    "    \n",
    "    if faces is ():\n",
    "        return None\n",
    "    \n",
    "    # Crop all faces found\n",
    "    for (x,y,w,h) in faces:\n",
    "        cropped_face = img[y:y+h, x:x+w]\n",
    "\n",
    "    return cropped_face\n",
    "\n",
    "# Initialize Webcam\n",
    "cap = cv2.VideoCapture(0)\n",
    "count = 0\n",
    "\n",
    "# Collect 100 samples of your face from webcam input\n",
    "while True:\n",
    "\n",
    "    ret, frame = cap.read()\n",
    "    if face_extractor(frame) is not None:\n",
    "        count += 1\n",
    "        face = cv2.resize(face_extractor(frame), (200, 200))\n",
    "        face = cv2.cvtColor(face, cv2.COLOR_BGR2GRAY)\n",
    "\n",
    "        # Save file in specified directory with unique name\n",
    "        file_name_path = './faces/user/' + str(count) + '.jpg'\n",
    "        cv2.imwrite(file_name_path, face)\n",
    "\n",
    "        # Put count on images and display live count\n",
    "        cv2.putText(face, str(count), (50, 50), cv2.FONT_HERSHEY_COMPLEX, 1, (0,255,0), 2)\n",
    "        cv2.imshow('Face Cropper', face)\n",
    "        \n",
    "    else:\n",
    "        print(\"Face not found\")\n",
    "        pass\n",
    "\n",
    "    if cv2.waitKey(1) == 13 or count == 100: #13 is the Enter Key\n",
    "        break\n",
    "        \n",
    "cap.release()\n",
    "cv2.destroyAllWindows()      \n",
    "print(\"Collecting Samples Complete\")"
   ]
  },
  {
   "cell_type": "code",
   "execution_count": 2,
   "metadata": {},
   "outputs": [],
   "source": [
    "cap.release()"
   ]
  },
  {
   "cell_type": "code",
   "execution_count": 2,
   "metadata": {},
   "outputs": [
    {
     "name": "stdout",
     "output_type": "stream",
     "text": [
      "Model trained sucessefully\n"
     ]
    }
   ],
   "source": [
    "import cv2\n",
    "import numpy as np\n",
    "from os import listdir\n",
    "from os.path import isfile, join\n",
    "\n",
    "# Get the training data we previously made\n",
    "data_path = './faces/user/'\n",
    "onlyfiles = [f for f in listdir(data_path) if isfile(join(data_path, f))]\n",
    "\n",
    "# Create arrays for training data and labels\n",
    "Training_Data, Labels = [], []\n",
    "\n",
    "# Open training images in our datapath\n",
    "# Create a numpy array for training data\n",
    "for i, files in enumerate(onlyfiles):\n",
    "    image_path = data_path + onlyfiles[i]\n",
    "    images = cv2.imread(image_path, cv2.IMREAD_GRAYSCALE)\n",
    "    Training_Data.append(np.asarray(images, dtype=np.uint8))\n",
    "    Labels.append(i)\n",
    "\n",
    "# Create a numpy array for both training data and labels\n",
    "Labels = np.asarray(Labels, dtype=np.int32)\n",
    "\n",
    "# Initialize facial recognizer\n",
    "# model = cv2.face.createLBPHFaceRecognizer()\n",
    "# NOTE: For OpenCV 3.0 use cv2.face.createLBPHFaceRecognizer()\n",
    "# pip install opencv-contrib-python\n",
    "# model = cv2.createLBPHFaceRecognizer()\n",
    "\n",
    "sneha_model  = cv2.face_LBPHFaceRecognizer.create()\n",
    "# Let's train our model \n",
    "sneha_model.train(np.asarray(Training_Data), np.asarray(Labels))\n",
    "print(\"Model trained sucessefully\")\n"
   ]
  },
  {
   "cell_type": "code",
   "execution_count": 3,
   "metadata": {},
   "outputs": [
    {
     "name": "stderr",
     "output_type": "stream",
     "text": [
      "<>:16: SyntaxWarning: \"is\" with a literal. Did you mean \"==\"?\n",
      "<>:16: SyntaxWarning: \"is\" with a literal. Did you mean \"==\"?\n",
      "<ipython-input-3-4a87b9f0f7a6>:16: SyntaxWarning: \"is\" with a literal. Did you mean \"==\"?\n",
      "  if faces is ():\n"
     ]
    },
    {
     "name": "stdout",
     "output_type": "stream",
     "text": [
      "In 10 seconds web.whatsapp.com will open and after 20 seconds message will be delivered\n",
      "Server Created\n",
      "login successfull...\n",
      "email sent to sneha\n"
     ]
    }
   ],
   "source": [
    "import cv2\r\n",
    "import numpy as np\r\n",
    "import os\r\n",
    "import pywhatkit\r\n",
    "import smtplib\r\n",
    "\r\n",
    "\r\n",
    "\r\n",
    "face_classifier = cv2.CascadeClassifier('haarcascade_frontalface_default.xml')\r\n",
    "\r\n",
    "def face_detector(img, size=0.5):\r\n",
    "    \r\n",
    "    # Convert image to grayscale\r\n",
    "    gray = cv2.cvtColor(img,cv2.COLOR_BGR2GRAY)\r\n",
    "    faces = face_classifier.detectMultiScale(gray, 1.3, 5)\r\n",
    "    if faces is ():\r\n",
    "        return img, []\r\n",
    "    \r\n",
    "    \r\n",
    "    for (x,y,w,h) in faces:\r\n",
    "        cv2.rectangle(img,(x,y),(x+w,y+h),(0,255,255),2)\r\n",
    "        roi = img[y:y+h, x:x+w]\r\n",
    "        roi = cv2.resize(roi, (200, 200))\r\n",
    "    return img, roi\r\n",
    "\r\n",
    "\r\n",
    "# Open Webcam\r\n",
    "cap = cv2.VideoCapture(0)\r\n",
    "\r\n",
    "while True:      \r\n",
    "\r\n",
    "    ret, frame = cap.read()\r\n",
    "    \r\n",
    "    image, face = face_detector(frame)\r\n",
    "    \r\n",
    "    try:\r\n",
    "        face = cv2.cvtColor(face, cv2.COLOR_BGR2GRAY)\r\n",
    "\r\n",
    "        # Pass face to prediction model\r\n",
    "        # \"results\" comprises of a tuple containing the label and the confidence value\r\n",
    "        results = sneha_model.predict(face)\r\n",
    "        # harry_model.predict(face)\r\n",
    "        \r\n",
    "        if results[1] < 500:\r\n",
    "            confidence = int( 100 * (1 - (results[1])/400) )\r\n",
    "            display_string = str(confidence) + '% Confident it is User'\r\n",
    "            \r\n",
    "        cv2.putText(image, display_string, (100, 120), cv2.FONT_HERSHEY_COMPLEX, 1, (255,120,150), 2)\r\n",
    "        \r\n",
    "        if confidence > 75:\r\n",
    "            cv2.putText(image, \"Hey Sneha\", (250, 450), cv2.FONT_HERSHEY_COMPLEX, 1, (0,255,0), 2)\r\n",
    "            cv2.imshow('Face Recognition', image )\r\n",
    "            \r\n",
    "            #it will Send the message to your friend whose number you enter here through whatsapp\r\n",
    "            pywhatkit.sendwhatmsg('+919696689779','Hey what is going on' ,20,8)\r\n",
    "                                   #whatsapp no. , Message               ,hour,min\r\n",
    "            \r\n",
    "            #it will send the message to the email ID\r\n",
    "            server = smtplib.SMTP_SSL(\"smtp.gmail.com\",465)\r\n",
    "            print(\"Server Created\")\r\n",
    "            server.login(\"sanasinghss88@gmail.com\",\"password\")\r\n",
    "            print(\"login successfull...\")\r\n",
    "            server.sendmail(\"HEY\",\"snehapal8318@gmail.com\" , \"Message Sent Successfully ...... THANK YOU\")\r\n",
    "            print(\"email sent to sneha\")\r\n",
    "            server.quit()\r\n",
    "            break\r\n",
    "         \r\n",
    "        else:\r\n",
    "            \r\n",
    "            cv2.putText(image, \"I dont know, who are you\", (250, 450), cv2.FONT_HERSHEY_COMPLEX, 1, (0,0,255), 2)\r\n",
    "            cv2.imshow('Face Recognition', image )\r\n",
    "    except:\r\n",
    "        cv2.putText(image, \"No Face Found\", (220, 120) , cv2.FONT_HERSHEY_COMPLEX, 1, (0,0,255), 2)\r\n",
    "        cv2.putText(image, \"looking for face\", (250, 450), cv2.FONT_HERSHEY_COMPLEX, 1, (0,0,255), 2)\r\n",
    "        cv2.imshow('Face Recognition', image )\r\n",
    "        pass\r\n",
    "        \r\n",
    "    if cv2.waitKey(1) == 13: #13 is the Enter Key\r\n",
    "        break\r\n",
    "        \r\n",
    "cap.release()\r\n",
    "cv2.destroyAllWindows()     "
   ]
  },
  {
   "cell_type": "code",
   "execution_count": null,
   "metadata": {},
   "outputs": [],
   "source": []
  },
  {
   "cell_type": "code",
   "execution_count": null,
   "metadata": {},
   "outputs": [],
   "source": []
  }
 ],
 "metadata": {
  "interpreter": {
   "hash": "acccaa597f9e1cc39636c7aaf84b7dc0d43785ea73d449321f58bfef06193881"
  },
  "kernelspec": {
   "display_name": "Python 3.8.8 64-bit ('base': conda)",
   "name": "python3"
  },
  "language_info": {
   "name": "python",
   "version": ""
  }
 },
 "nbformat": 4,
 "nbformat_minor": 1
}